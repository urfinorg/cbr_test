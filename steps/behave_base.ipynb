{
 "cells": [
  {
   "cell_type": "code",
   "execution_count": 2,
   "metadata": {},
   "outputs": [],
   "source": [
    "from behave import *\n",
    "\n",
    "from selenium import webdriver\n",
    "from selenium.webdriver import Firefox\n",
    "from selenium.webdriver.firefox.options import Options\n",
    "\n",
    "from selenium.webdriver.common.keys import Keys\n",
    "\n",
    "from selenium.webdriver.common.by import By\n",
    "from selenium.webdriver.support.ui import WebDriverWait\n",
    "from selenium.webdriver.support import expected_conditions as EC\n",
    "from selenium.common.exceptions import NoSuchElementException\n",
    "\n",
    "import time\n",
    "from locators import Locators"
   ]
  },
  {
   "cell_type": "code",
   "execution_count": 3,
   "metadata": {},
   "outputs": [],
   "source": [
    "options = Options()\n",
    "options.headless = True\n",
    "\n",
    "driver = webdriver.Firefox(options=options)"
   ]
  },
  {
   "cell_type": "code",
   "execution_count": 4,
   "metadata": {},
   "outputs": [],
   "source": [
    "#1.Зашли на сайт google.ru\n",
    "driver.get(\"https://www.google.ru\")"
   ]
  },
  {
   "cell_type": "code",
   "execution_count": 5,
   "metadata": {},
   "outputs": [],
   "source": [
    "l_loc = Locators()"
   ]
  },
  {
   "cell_type": "code",
   "execution_count": 9,
   "metadata": {},
   "outputs": [],
   "source": [
    "#2.Проверили, что появилось поле “поиск”\n",
    "\n",
    "exist = True\n",
    "try:\n",
    "    elem = driver.find_element(*l_loc.GG_INPUT)\n",
    "    #GG_INPUT = (By.NAME, 'q')\n",
    "except NoSuchElementException:\n",
    "        exist = False\n",
    "assert exist, 'Element \"q\" not exist'"
   ]
  },
  {
   "cell_type": "code",
   "execution_count": 10,
   "metadata": {},
   "outputs": [],
   "source": [
    "#3.Ввели в поле поиск значение Центральный банк РФ\n",
    "elem.send_keys(\"Центральный банк РФ\")\n",
    "#elem.send_keys(Keys.RETURN)"
   ]
  },
  {
   "cell_type": "code",
   "execution_count": 11,
   "metadata": {},
   "outputs": [],
   "source": [
    "#4.Нажали на кнопку поиск в google\n",
    "ctn = driver.find_element(By.CSS_SELECTOR, \"input[name='btnK']\")\n",
    "ctn.click()\n"
   ]
  },
  {
   "cell_type": "code",
   "execution_count": 21,
   "metadata": {},
   "outputs": [],
   "source": [
    "window_before = driver.window_handles[0]\n",
    "\n",
    "#5. Нашли ссылку “cbr.ru”\n",
    "#results = driver.find_elements_by_xpath('//div[@class=\"r\"]/a/h3')  # finds webresults\n",
    "results = driver.find_element(GG_RESULTS)\n",
    "\n",
    "#6.Нажали на ссылку cbr.ru\n",
    "results[0].click()  #. # clicks the first one\n",
    "\n",
    "window_after = driver.window_handles[1]"
   ]
  },
  {
   "cell_type": "code",
   "execution_count": 22,
   "metadata": {},
   "outputs": [],
   "source": [
    "driver.switch_to.window(window_after)"
   ]
  },
  {
   "cell_type": "code",
   "execution_count": 23,
   "metadata": {},
   "outputs": [
    {
     "data": {
      "text/plain": [
       "'Центральный банк Российской Федерации'"
      ]
     },
     "execution_count": 23,
     "metadata": {},
     "output_type": "execute_result"
    }
   ],
   "source": [
    "driver.title\n",
    "# 7.Проверили, что открыт нужный сайт"
   ]
  },
  {
   "cell_type": "code",
   "execution_count": 24,
   "metadata": {},
   "outputs": [],
   "source": [
    "#8.Нажали на ссылку Интернет-приемная\n",
    "\n",
    "continue_link = driver.find_element_by_link_text('Интернет-приемная')\n",
    "continue_link.click()\n"
   ]
  },
  {
   "cell_type": "code",
   "execution_count": 25,
   "metadata": {},
   "outputs": [],
   "source": [
    "#9. Открыли раздел Написать благодарность thanks\n",
    "continue_link = driver.find_element_by_link_text('Написать благодарность')\n",
    "continue_link.click()"
   ]
  },
  {
   "cell_type": "code",
   "execution_count": 52,
   "metadata": {},
   "outputs": [
    {
     "data": {
      "text/plain": [
       "True"
      ]
     },
     "execution_count": 52,
     "metadata": {},
     "output_type": "execute_result"
    }
   ],
   "source": [
    "#driver.save_screenshot('screen_clr.png')"
   ]
  },
  {
   "cell_type": "code",
   "execution_count": 53,
   "metadata": {},
   "outputs": [],
   "source": [
    "#10. В поле Ваша благодарность ввели значение “случайный текст” \n",
    "\n",
    "\n",
    "#https://www.cbr.ru/Reception/Message/Register?messageType=Gratitude\n",
    "\n",
    "elem = driver.find_element_by_id(\"MessageBody\")\n",
    "elem.clear()\n",
    "elem.send_keys(\"случайный текст\")\n",
    "#driver.save_screenshot('screen.png')"
   ]
  },
  {
   "cell_type": "code",
   "execution_count": null,
   "metadata": {},
   "outputs": [],
   "source": [
    "#11. Поставили галочку “Я согласен”\n",
    "\n",
    "#driver.save_screenshot('screen_b.png')\n",
    "\n",
    "#elem = driver.find_element_by_id(\"_agreementFlag\")\n",
    "#elem = driver.find_element_by_css_selector(\"checkbox#_agreementFlag\")\n",
    "\n",
    "#elem = driver.find_elements_by_xpath(\"//label[@for='_agreementFlag']\")\n",
    "\n",
    "elem = driver.find_element_by_css_selector(\"#_agreementFlag\")\n",
    "\n",
    "elem.click()"
   ]
  },
  {
   "cell_type": "code",
   "execution_count": 58,
   "metadata": {},
   "outputs": [
    {
     "data": {
      "text/plain": [
       "True"
      ]
     },
     "execution_count": 58,
     "metadata": {},
     "output_type": "execute_result"
    }
   ],
   "source": [
    "#12. Сделали скриншот\n",
    "\n",
    "driver.save_screenshot('screen.png')\n"
   ]
  },
  {
   "cell_type": "code",
   "execution_count": 59,
   "metadata": {},
   "outputs": [],
   "source": [
    "#13.Нажали на кнопку “Три полоски” #(Сверху слева, открывающая меню)\n",
    "\n",
    "elem = driver.find_element_by_css_selector(\"span.burger\")\n",
    "elem.click()\n"
   ]
  },
  {
   "cell_type": "code",
   "execution_count": 68,
   "metadata": {},
   "outputs": [],
   "source": [
    "#14.Нажали на раздел О сайте\n",
    "\n",
    "continue_link = driver.find_element_by_link_text('О сайте')\n",
    "continue_link.click()\n"
   ]
  },
  {
   "cell_type": "code",
   "execution_count": 69,
   "metadata": {},
   "outputs": [],
   "source": [
    "#15.Нажали на ссылку предупреждение\n",
    "continue_link = driver.find_element_by_link_text('Предупреждение')\n",
    "continue_link.click()"
   ]
  },
  {
   "cell_type": "code",
   "execution_count": 73,
   "metadata": {},
   "outputs": [],
   "source": [
    "#16.Запомнили текст предупреждени\n",
    "elem = driver.find_element_by_css_selector(\"#content>p\")\n",
    "elem.text"
   ]
  },
  {
   "cell_type": "code",
   "execution_count": 74,
   "metadata": {},
   "outputs": [],
   "source": [
    "#17.Сменили язык страницы на en (сверху выбор есть)\n",
    "\n",
    "elem = driver.find_element_by_link_text('EN')\n",
    "elem.click()"
   ]
  },
  {
   "cell_type": "code",
   "execution_count": 76,
   "metadata": {},
   "outputs": [],
   "source": [
    "#18.Проверили, что текст отличается от запомненного текста ранее\n",
    "elem = driver.find_element_by_css_selector(\"#content>p\")\n",
    "elem.text"
   ]
  },
  {
   "cell_type": "code",
   "execution_count": 76,
   "metadata": {},
   "outputs": [],
   "source": [
    "#19.Сделали скриншот\n",
    "driver.save_screenshot('screen.png')"
   ]
  },
  {
   "cell_type": "code",
   "execution_count": 36,
   "metadata": {},
   "outputs": [],
   "source": [
    "\n",
    "#assert \"Python\" in driver.title\n",
    "#elem = driver.find_element_by_name(\"q\")\n",
    "#elem.clear()\n",
    "#elem.send_keys(\"pycon\")\n",
    "#elem.send_keys(Keys.RETURN)\n",
    "#assert \"No results found.\" not in driver.page_source\n",
    "\n",
    "\n",
    "#driver.page_source\n",
    "#driver.title\n"
   ]
  },
  {
   "cell_type": "markdown",
   "metadata": {},
   "source": [
    "#1.Зашли на сайт google.ru\n",
    "#2.Проверили, что появилось поле “поиск”\n",
    "#3.Ввели в поле поиск значение Центральный банк РФ\n",
    "#4.Нажали на кнопку поиск в google\n",
    "#5.Нашли ссылку “cbr.ru”\n",
    "#6.Нажали на ссылку cbr.ru\n",
    "#7.Проверили, что открыт нужный сайт\n",
    "#8.Нажали на ссылку Интернет-приемная\n",
    "#9.Открыли раздел Написать благодарность\n",
    "#10.В поле Ваша благодарность ввели значение “случайный текст”\n",
    "#11.Поставили галочку “Я согласен”\n",
    "#12.Сделали скриншот\n",
    "#13.Нажали на кнопку “Три полоски” #(Сверху слева, открывающая меню)\n",
    "#14.Нажали на раздел О сайте\n",
    "#15.Нажали на ссылку предупреждение\n",
    "#16.Запомнили текст предупреждения\n",
    "#17.Сменили язык страницы на en (сверху выбор есть)\n",
    "#18.Проверили, что текст отличается от запомненного текста ранее\n",
    "#19.Сделали скриншот"
   ]
  },
  {
   "cell_type": "code",
   "execution_count": 99,
   "metadata": {},
   "outputs": [],
   "source": [
    "driver.close()"
   ]
  }
 ],
 "metadata": {
  "kernelspec": {
   "display_name": "Python 3",
   "language": "python",
   "name": "python3"
  },
  "language_info": {
   "codemirror_mode": {
    "name": "ipython",
    "version": 3
   },
   "file_extension": ".py",
   "mimetype": "text/x-python",
   "name": "python",
   "nbconvert_exporter": "python",
   "pygments_lexer": "ipython3",
   "version": "3.7.2"
  }
 },
 "nbformat": 4,
 "nbformat_minor": 2
}
